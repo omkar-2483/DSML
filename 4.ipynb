{
 "cells": [
  {
   "cell_type": "markdown",
   "metadata": {},
   "source": [
    "Write a program to do: A dataset collected in a cosmetics shop showing\n",
    "details of customers and whether or not they responded to a special offer\n",
    "to buy a new lip-stick is shown in table below. (Implement step by step\n",
    "using commands - Dont use library) Use this dataset to build a decision\n",
    "tree, with Buys as the target variable, to help in buying lipsticks in the\n",
    "future. Find the root node of the decision tree."
   ]
  },
  {
   "cell_type": "code",
   "execution_count": 1,
   "metadata": {},
   "outputs": [],
   "source": [
    "import pandas as pd\n",
    "import numpy as np\n",
    "import math"
   ]
  },
  {
   "cell_type": "code",
   "execution_count": 2,
   "metadata": {},
   "outputs": [
    {
     "data": {
      "text/html": [
       "<div>\n",
       "<style scoped>\n",
       "    .dataframe tbody tr th:only-of-type {\n",
       "        vertical-align: middle;\n",
       "    }\n",
       "\n",
       "    .dataframe tbody tr th {\n",
       "        vertical-align: top;\n",
       "    }\n",
       "\n",
       "    .dataframe thead th {\n",
       "        text-align: right;\n",
       "    }\n",
       "</style>\n",
       "<table border=\"1\" class=\"dataframe\">\n",
       "  <thead>\n",
       "    <tr style=\"text-align: right;\">\n",
       "      <th></th>\n",
       "      <th>Age</th>\n",
       "      <th>Income</th>\n",
       "      <th>Gender</th>\n",
       "      <th>Marital Status</th>\n",
       "      <th>Buys</th>\n",
       "    </tr>\n",
       "  </thead>\n",
       "  <tbody>\n",
       "    <tr>\n",
       "      <th>0</th>\n",
       "      <td>19</td>\n",
       "      <td>Medium</td>\n",
       "      <td>Other</td>\n",
       "      <td>Single</td>\n",
       "      <td>Yes</td>\n",
       "    </tr>\n",
       "    <tr>\n",
       "      <th>1</th>\n",
       "      <td>35</td>\n",
       "      <td>High</td>\n",
       "      <td>Other</td>\n",
       "      <td>Married</td>\n",
       "      <td>No</td>\n",
       "    </tr>\n",
       "    <tr>\n",
       "      <th>2</th>\n",
       "      <td>27</td>\n",
       "      <td>Low</td>\n",
       "      <td>Male</td>\n",
       "      <td>Married</td>\n",
       "      <td>Yes</td>\n",
       "    </tr>\n",
       "    <tr>\n",
       "      <th>3</th>\n",
       "      <td>45</td>\n",
       "      <td>Low</td>\n",
       "      <td>Male</td>\n",
       "      <td>Single</td>\n",
       "      <td>Yes</td>\n",
       "    </tr>\n",
       "    <tr>\n",
       "      <th>4</th>\n",
       "      <td>29</td>\n",
       "      <td>High</td>\n",
       "      <td>Other</td>\n",
       "      <td>Married</td>\n",
       "      <td>No</td>\n",
       "    </tr>\n",
       "  </tbody>\n",
       "</table>\n",
       "</div>"
      ],
      "text/plain": [
       "   Age  Income Gender Marital Status Buys\n",
       "0   19  Medium  Other         Single  Yes\n",
       "1   35    High  Other        Married   No\n",
       "2   27     Low   Male        Married  Yes\n",
       "3   45     Low   Male         Single  Yes\n",
       "4   29    High  Other        Married   No"
      ]
     },
     "execution_count": 2,
     "metadata": {},
     "output_type": "execute_result"
    }
   ],
   "source": [
    "df = pd.read_csv('cosmetics_shop_data.csv', header=0)\n",
    "df.head()"
   ]
  },
  {
   "cell_type": "code",
   "execution_count": 3,
   "metadata": {},
   "outputs": [],
   "source": [
    "#  Bin the continuous 'Age' attribute into discrete categories\n",
    "bins = [0, 30, 40, 100]  # Define the bins: Young (0-30), Middle (30-40), Old (40+)\n",
    "labels = [\"Young\", \"Middle\", \"Old\"]  # Labels for the bins\n",
    "df[\"Age\"] = pd.cut(df[\"Age\"], bins=bins, labels=labels)"
   ]
  },
  {
   "cell_type": "code",
   "execution_count": 4,
   "metadata": {},
   "outputs": [
    {
     "data": {
      "text/html": [
       "<div>\n",
       "<style scoped>\n",
       "    .dataframe tbody tr th:only-of-type {\n",
       "        vertical-align: middle;\n",
       "    }\n",
       "\n",
       "    .dataframe tbody tr th {\n",
       "        vertical-align: top;\n",
       "    }\n",
       "\n",
       "    .dataframe thead th {\n",
       "        text-align: right;\n",
       "    }\n",
       "</style>\n",
       "<table border=\"1\" class=\"dataframe\">\n",
       "  <thead>\n",
       "    <tr style=\"text-align: right;\">\n",
       "      <th></th>\n",
       "      <th>Age</th>\n",
       "      <th>Income</th>\n",
       "      <th>Gender</th>\n",
       "      <th>Marital Status</th>\n",
       "      <th>Buys</th>\n",
       "    </tr>\n",
       "  </thead>\n",
       "  <tbody>\n",
       "    <tr>\n",
       "      <th>0</th>\n",
       "      <td>Young</td>\n",
       "      <td>Medium</td>\n",
       "      <td>Other</td>\n",
       "      <td>Single</td>\n",
       "      <td>Yes</td>\n",
       "    </tr>\n",
       "    <tr>\n",
       "      <th>1</th>\n",
       "      <td>Middle</td>\n",
       "      <td>High</td>\n",
       "      <td>Other</td>\n",
       "      <td>Married</td>\n",
       "      <td>No</td>\n",
       "    </tr>\n",
       "    <tr>\n",
       "      <th>2</th>\n",
       "      <td>Young</td>\n",
       "      <td>Low</td>\n",
       "      <td>Male</td>\n",
       "      <td>Married</td>\n",
       "      <td>Yes</td>\n",
       "    </tr>\n",
       "    <tr>\n",
       "      <th>3</th>\n",
       "      <td>Old</td>\n",
       "      <td>Low</td>\n",
       "      <td>Male</td>\n",
       "      <td>Single</td>\n",
       "      <td>Yes</td>\n",
       "    </tr>\n",
       "    <tr>\n",
       "      <th>4</th>\n",
       "      <td>Young</td>\n",
       "      <td>High</td>\n",
       "      <td>Other</td>\n",
       "      <td>Married</td>\n",
       "      <td>No</td>\n",
       "    </tr>\n",
       "  </tbody>\n",
       "</table>\n",
       "</div>"
      ],
      "text/plain": [
       "      Age  Income Gender Marital Status Buys\n",
       "0   Young  Medium  Other         Single  Yes\n",
       "1  Middle    High  Other        Married   No\n",
       "2   Young     Low   Male        Married  Yes\n",
       "3     Old     Low   Male         Single  Yes\n",
       "4   Young    High  Other        Married   No"
      ]
     },
     "execution_count": 4,
     "metadata": {},
     "output_type": "execute_result"
    }
   ],
   "source": [
    "df.head()"
   ]
  },
  {
   "cell_type": "code",
   "execution_count": 5,
   "metadata": {},
   "outputs": [],
   "source": [
    "#helper function for entropy\n",
    "def entropy(data, target_attr):\n",
    "    values = data[target_attr].value_counts(normalize=True)\n",
    "    return -sum(values * values.apply(math.log2))\n"
   ]
  },
  {
   "cell_type": "code",
   "execution_count": 6,
   "metadata": {},
   "outputs": [],
   "source": [
    "def split_data(data, attribute, value):\n",
    "    return data[data[attribute]==value]"
   ]
  },
  {
   "cell_type": "code",
   "execution_count": 7,
   "metadata": {},
   "outputs": [],
   "source": [
    "#helper function to calculate information gain\n",
    "def information_gain(data, attribute, target_attr):\n",
    "    total_entropy= entropy(data, target_attr)\n",
    "    values=data[attribute].unique()\n",
    "    subset_entropy=0\n",
    "\n",
    "    for value in values:\n",
    "        subset = split_data(data, attribute, value)\n",
    "        subset_entropy+= len(subset)/len(data)*entropy(subset, target_attr)\n",
    "    \n",
    "    return total_entropy-subset_entropy"
   ]
  },
  {
   "cell_type": "code",
   "execution_count": 8,
   "metadata": {},
   "outputs": [
    {
     "name": "stdout",
     "output_type": "stream",
     "text": [
      "information_ gain for each feature: \n",
      "Age: 0.0035\n",
      "Income: 0.0040\n",
      "Gender: 0.0004\n",
      "Marital Status: 0.0000\n",
      "root node is Income\n"
     ]
    }
   ],
   "source": [
    "#find root node\n",
    "target_attribute ='Buys'\n",
    "features = ['Age','Income', 'Gender', 'Marital Status']\n",
    "root_node=None\n",
    "max_gain=-1\n",
    "\n",
    "print('information_ gain for each feature: ')\n",
    "for feature in features:\n",
    "    gain = information_gain(df, feature, target_attribute)\n",
    "    print(f'{feature}: {gain:.4f}')\n",
    "    if gain>max_gain:\n",
    "        max_gain=gain\n",
    "        root_node=feature\n",
    "\n",
    "print(f'root node is {root_node}')"
   ]
  },
  {
   "cell_type": "code",
   "execution_count": null,
   "metadata": {},
   "outputs": [],
   "source": []
  }
 ],
 "metadata": {
  "kernelspec": {
   "display_name": "Python 3",
   "language": "python",
   "name": "python3"
  },
  "language_info": {
   "codemirror_mode": {
    "name": "ipython",
    "version": 3
   },
   "file_extension": ".py",
   "mimetype": "text/x-python",
   "name": "python",
   "nbconvert_exporter": "python",
   "pygments_lexer": "ipython3",
   "version": "3.10.9"
  }
 },
 "nbformat": 4,
 "nbformat_minor": 2
}
