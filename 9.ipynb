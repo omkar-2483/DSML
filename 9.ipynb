{
 "cells": [
  {
   "cell_type": "markdown",
   "metadata": {},
   "source": [
    "Write a program to do the following: You have given a collection of 8\n",
    "points. P1=[0.1,0.6] P2=[0.15,0.71] P3=[0.08,0.9] P4=[0.16, 0.85]\n",
    "P5=[0.2,0.3] P6=[0.25,0.5] P7=[0.24,0.1] P8=[0.3,0.2]. Perform the k-mean\n",
    "clustering with initial centroids as m1=P1 =Cluster#1=C1 and\n",
    "m2=P8=cluster#2=C2. Answer the following 1] Which cluster does P6\n",
    "belong to? 2] What is the population of a cluster around m2? 3] What is\n",
    "the updated value of m1 and m2?"
   ]
  },
  {
   "cell_type": "code",
   "execution_count": 1,
   "metadata": {},
   "outputs": [],
   "source": [
    "import numpy as np"
   ]
  },
  {
   "cell_type": "code",
   "execution_count": 13,
   "metadata": {},
   "outputs": [],
   "source": [
    "points =np.array([\n",
    "    [0.1,0.6],\n",
    "    [0.15, 0.71],\n",
    "    [0.08, 0.9],\n",
    "    [0.16, 0.85],\n",
    "    [0.2, 0.3],\n",
    "    [0.25, 0.5],\n",
    "    [0.24, 0.1],\n",
    "    [0.3, 0.2]\n",
    "])"
   ]
  },
  {
   "cell_type": "code",
   "execution_count": 14,
   "metadata": {},
   "outputs": [],
   "source": [
    "# Function to calculate euclidian distance\n",
    "def euclidian_distance(p1, p2):\n",
    "    return np.sqrt(np.sum((p1 - p2) ** 2))"
   ]
  },
  {
   "cell_type": "code",
   "execution_count": 15,
   "metadata": {},
   "outputs": [],
   "source": [
    "# function to perform k-means clustering\n",
    "def k_mean(points, m1,  m2):\n",
    "    cluster1=[]\n",
    "    cluster2=[]\n",
    "\n",
    "    for point in points:\n",
    "        if euclidian_distance(point, m1) < euclidian_distance(point, m2):\n",
    "            cluster1.append(point)\n",
    "            m1=np.mean(cluster1, axis=0)\n",
    "        else:\n",
    "            cluster2.append(point)\n",
    "            m2=np.mean(cluster2, axis=0)\n",
    "    return cluster1, cluster2, m1, m2\n"
   ]
  },
  {
   "cell_type": "code",
   "execution_count": 16,
   "metadata": {},
   "outputs": [],
   "source": [
    "m1=points[0]\n",
    "m2=points[7]\n",
    "\n",
    "cluster1, cluster2, updated_m1, updated_m2 = k_mean(points, m1, m2)\n"
   ]
  },
  {
   "cell_type": "code",
   "execution_count": 21,
   "metadata": {},
   "outputs": [
    {
     "name": "stdout",
     "output_type": "stream",
     "text": [
      "1] P6 belongs to: C2\n",
      "2] Population of cluster around m2: 4\n",
      "3] Updated m1: [0.1225 0.765 ], Updated m2: [0.2475 0.275 ]\n"
     ]
    }
   ],
   "source": [
    "p6_cluster = \"C1\" if list(points[5]) in [list(pt) for pt in cluster1] else \"C2\"\n",
    "population_c2 = len(cluster2)\n",
    "\n",
    "# Print results\n",
    "print(f\"1] P6 belongs to: {p6_cluster}\")\n",
    "print(f\"2] Population of cluster around m2: {population_c2}\")\n",
    "print(f\"3] Updated m1: {updated_m1}, Updated m2: {updated_m2}\")"
   ]
  }
 ],
 "metadata": {
  "kernelspec": {
   "display_name": "Python 3",
   "language": "python",
   "name": "python3"
  },
  "language_info": {
   "codemirror_mode": {
    "name": "ipython",
    "version": 3
   },
   "file_extension": ".py",
   "mimetype": "text/x-python",
   "name": "python",
   "nbconvert_exporter": "python",
   "pygments_lexer": "ipython3",
   "version": "3.10.9"
  }
 },
 "nbformat": 4,
 "nbformat_minor": 2
}
