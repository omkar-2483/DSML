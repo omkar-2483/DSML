{
 "cells": [
  {
   "cell_type": "markdown",
   "metadata": {},
   "source": [
    "Write a program to do the following: You have given a collection of 8\n",
    "points. P1=[2, 10] P2=[2, 5] P3=[8, 4] P4=[5, 8] P5=[7,5] P6=[6, 4] P7=[1, 2]\n",
    "P8=[4, 9]. Perform the k-mean clustering with initial centroids as m1=P1\n",
    "=Cluster#1=C1 and m2=P4=cluster#2=C2, m3=P7 =Cluster#3=C3. Answer\n",
    "the following 1] Which cluster does P6 belong to? 2] What is the\n",
    "population of a cluster around m3? 3] What is the updated value of m1,\n",
    "m2, m3?"
   ]
  },
  {
   "cell_type": "code",
   "execution_count": 1,
   "metadata": {},
   "outputs": [],
   "source": [
    "import numpy as np\n",
    "\n",
    "# Given points\n",
    "points = np.array([\n",
    "    [2, 10],  # P1\n",
    "    [2, 5],   # P2\n",
    "    [8, 4],   # P3\n",
    "    [5, 8],   # P4\n",
    "    [7, 5],   # P5\n",
    "    [6, 4],   # P6\n",
    "    [1, 2],   # P7\n",
    "    [4, 9]    # P8\n",
    "])\n",
    "\n",
    "# Initial centroids\n",
    "m1 = points[0]  # P1 = Cluster#1 = C1\n",
    "m2 = points[3]  # P4 = Cluster#2 = C2\n",
    "m3 = points[6]  # P7 = Cluster#3 = C3\n",
    "\n",
    "# Function to calculate Euclidean distance\n",
    "def euclidean_distance(p1, p2):\n",
    "    return np.sqrt(np.sum((p1 - p2) ** 2))\n",
    "\n",
    "# Perform k-means clustering, updating centroid after each assignment\n",
    "def k_means_dynamic_update(points, m1, m2, m3):\n",
    "    cluster1 = []\n",
    "    cluster2 = []\n",
    "    cluster3 = []\n",
    "\n",
    "    for point in points:\n",
    "        # Assign point to the nearest centroid\n",
    "        distances = [\n",
    "            euclidean_distance(point, m1),\n",
    "            euclidean_distance(point, m2),\n",
    "            euclidean_distance(point, m3)\n",
    "        ]\n",
    "        min_index = np.argmin(distances)\n",
    "\n",
    "        if min_index == 0:  # Closest to m1\n",
    "            cluster1.append(point)\n",
    "            m1 = np.mean(cluster1, axis=0)  # Update m1\n",
    "        elif min_index == 1:  # Closest to m2\n",
    "            cluster2.append(point)\n",
    "            m2 = np.mean(cluster2, axis=0)  # Update m2\n",
    "        else:  # Closest to m3\n",
    "            cluster3.append(point)\n",
    "            m3 = np.mean(cluster3, axis=0)  # Update m3\n",
    "\n",
    "    return cluster1, cluster2, cluster3, m1, m2, m3\n",
    "\n",
    "# Perform clustering with dynamic updates\n",
    "cluster1, cluster2, cluster3, updated_m1, updated_m2, updated_m3 = k_means_dynamic_update(points, m1, m2, m3)\n"
   ]
  },
  {
   "cell_type": "code",
   "execution_count": 6,
   "metadata": {},
   "outputs": [
    {
     "name": "stdout",
     "output_type": "stream",
     "text": [
      "1] P6 belongs to: C2\n",
      "2] Population of cluster around m3: 2\n",
      "3] Updated m1: [3.66666667 9.        ], Updated m2: [7.         4.33333333], Updated m3: [1.5 3.5]\n"
     ]
    }
   ],
   "source": [
    "p6_cluster = (\"C1\" if list(points[5]) in [list(pt) for pt in cluster1] else\n",
    "              \"C2\" if list(points[5]) in [list(pt) for pt in cluster2] else\n",
    "              \"C3\")\n",
    "\n",
    "population_c3 = len(cluster3)\n",
    "\n",
    "print(f\"1] P6 belongs to: {p6_cluster}\")\n",
    "print(f\"2] Population of cluster around m3: {population_c3}\")\n",
    "print(f\"3] Updated m1: {updated_m1}, Updated m2: {updated_m2}, Updated m3: {updated_m3}\")"
   ]
  }
 ],
 "metadata": {
  "kernelspec": {
   "display_name": "Python 3",
   "language": "python",
   "name": "python3"
  },
  "language_info": {
   "codemirror_mode": {
    "name": "ipython",
    "version": 3
   },
   "file_extension": ".py",
   "mimetype": "text/x-python",
   "name": "python",
   "nbconvert_exporter": "python",
   "pygments_lexer": "ipython3",
   "version": "3.10.9"
  }
 },
 "nbformat": 4,
 "nbformat_minor": 2
}
