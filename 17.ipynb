{
 "cells": [
  {
   "cell_type": "markdown",
   "metadata": {},
   "source": [
    "Compute Accuracy, Error rate, Precision, Recall for following confusion\n",
    "matrix ( Use formula for each)\n",
    "\n",
    "True Positives (TPs): 1 \n",
    "False Positives (FPs): 1\n",
    "False Negatives (FNs): 8 \n",
    "True Negatives (TNs): 90\n"
   ]
  },
  {
   "cell_type": "markdown",
   "metadata": {},
   "source": [
    "TP=1, FP=1, FN=8, TN=90"
   ]
  },
  {
   "cell_type": "markdown",
   "metadata": {},
   "source": [
    "Accuracy= TP+TN/ Total\n",
    "        =1+90/100\n",
    "        =91/100\n",
    "        =0.91\n",
    "        = 91%"
   ]
  },
  {
   "cell_type": "markdown",
   "metadata": {},
   "source": [
    "Error Rate= 1-Accuracy = 1-0.91 = 0.09 = 9%"
   ]
  },
  {
   "cell_type": "markdown",
   "metadata": {},
   "source": [
    "Precision = TP/ TP+FP\n",
    "          = 1/ 1+1\n",
    "          =0.5\n",
    "          =50%"
   ]
  },
  {
   "cell_type": "markdown",
   "metadata": {},
   "source": [
    "Recall = TP/ TP+FN \n",
    "       = 1/ 1+8\n",
    "       =1/9\n",
    "       =0.1111\n",
    "       =11%"
   ]
  },
  {
   "cell_type": "code",
   "execution_count": 8,
   "metadata": {},
   "outputs": [
    {
     "data": {
      "text/plain": [
       "0.1111111111111111"
      ]
     },
     "execution_count": 8,
     "metadata": {},
     "output_type": "execute_result"
    }
   ],
   "source": [
    "1/9"
   ]
  }
 ],
 "metadata": {
  "kernelspec": {
   "display_name": "Python 3",
   "language": "python",
   "name": "python3"
  },
  "language_info": {
   "codemirror_mode": {
    "name": "ipython",
    "version": 3
   },
   "file_extension": ".py",
   "mimetype": "text/x-python",
   "name": "python",
   "nbconvert_exporter": "python",
   "pygments_lexer": "ipython3",
   "version": "3.10.9"
  }
 },
 "nbformat": 4,
 "nbformat_minor": 2
}
