{
 "cells": [
  {
   "cell_type": "markdown",
   "metadata": {},
   "source": [
    "Write a program to cluster a set of points using K-means for IRIS\n",
    "dataset. Consider, K=3, clusters. Consider Euclidean distance as the\n",
    "distance measure. Randomly initialize a cluster mean as one of the data\n",
    "points. Iterate at least for 10 iterations. After iterations are over, print the\n",
    "final cluster means for each of the clusters."
   ]
  },
  {
   "cell_type": "markdown",
   "metadata": {},
   "source": [
    "Algorithm:\n",
    "\n",
    "1. Initialize Cluster Means: Randomly select 3 points from the dataset as the initial cluster centroids.\n",
    "2. Assign Points to Nearest Centroid: For each point, calculate the Euclidean distance to each centroid and assign the point to the closest centroid.\n",
    "3. Recalculate Centroids: After assigning all points, recalculate the centroids as the mean of all points assigned to each cluster.\n",
    "4. Repeat for 10 Iterations: Repeat the above two steps for 10 iterations or until convergence (we'll limit it to 10 iterations here)."
   ]
  },
  {
   "cell_type": "code",
   "execution_count": 11,
   "metadata": {},
   "outputs": [],
   "source": [
    "import numpy as np\n",
    "import pandas as pd\n",
    "import matplotlib.pyplot as plt"
   ]
  },
  {
   "cell_type": "code",
   "execution_count": 21,
   "metadata": {},
   "outputs": [],
   "source": [
    "df=pd.read_csv('Iris.csv')\n",
    "X=df.drop(columns=['Id','Species']).values"
   ]
  },
  {
   "cell_type": "code",
   "execution_count": 22,
   "metadata": {},
   "outputs": [
    {
     "data": {
      "text/plain": [
       "(150, 4)"
      ]
     },
     "execution_count": 22,
     "metadata": {},
     "output_type": "execute_result"
    }
   ],
   "source": [
    "X.shape"
   ]
  },
  {
   "cell_type": "code",
   "execution_count": 25,
   "metadata": {},
   "outputs": [
    {
     "name": "stdout",
     "output_type": "stream",
     "text": [
      "Converged at iteration 6\n",
      "Final Cluster Means (Centroids):\n",
      "[[5.9016129  2.7483871  4.39354839 1.43387097]\n",
      " [5.006      3.418      1.464      0.244     ]\n",
      " [6.85       3.07368421 5.74210526 2.07105263]]\n"
     ]
    }
   ],
   "source": [
    "K = 3\n",
    "\n",
    "# Randomly initialize the cluster centroids (select 3 random points from the dataset)\n",
    "np.random.seed(42)\n",
    "initial_centroids = X[np.random.choice(X.shape[0], K, replace=False)]\n",
    "\n",
    "# Function to compute Euclidean distance\n",
    "def euclidean_distance(a, b):\n",
    "    return np.linalg.norm(a - b)\n",
    "\n",
    "# K-means algorithm\n",
    "def kmeans(X, K, max_iter=10):\n",
    "    # Initialize centroids\n",
    "    centroids = initial_centroids\n",
    "    for i in range(max_iter):\n",
    "        # Step 1: Assign points to the nearest centroid\n",
    "        labels = np.argmin(np.linalg.norm(X[:, np.newaxis] - centroids, axis=2), axis=1)\n",
    "        \n",
    "        # Step 2: Recalculate centroids\n",
    "        new_centroids = np.array([X[labels == j].mean(axis=0) for j in range(K)])\n",
    "        \n",
    "        # If centroids do not change, break early\n",
    "        if np.all(centroids == new_centroids):\n",
    "            print(f'Converged at iteration {i+1}')\n",
    "            break\n",
    "        \n",
    "        centroids = new_centroids\n",
    "    \n",
    "    return centroids, labels\n",
    "\n",
    "# Run K-means on the Iris dataset\n",
    "final_centroids, final_labels = kmeans(X, K)\n",
    "\n",
    "# Print the final centroids (cluster means)\n",
    "print(\"Final Cluster Means (Centroids):\")\n",
    "print(final_centroids)\n",
    "# print(final_labels)"
   ]
  },
  {
   "cell_type": "markdown",
   "metadata": {},
   "source": [
    "Step 1: Assign points to the nearest centroid\n",
    "\n",
    "labels = np.argmin(np.linalg.norm(X[:, np.newaxis] - centroids, axis=2), axis=1)\n",
    "\n",
    "\n",
    "X[:, np.newaxis] - centroids: This subtracts each data point (represented by X[:, np.newaxis], which reshapes X for broadcasting) from each centroid. The resulting array has shape (n_samples, K, n_features), where n_samples is the number of data points and K is the number of clusters.\n",
    "\n",
    "np.linalg.norm(..., axis=2): This computes the Euclidean distance between each data point and each centroid along the last axis (axis=2). The result is a distance matrix of shape (n_samples, K), where each row contains the distance of a data point to each centroid.\n",
    "\n",
    "np.argmin(..., axis=1): This finds the index of the closest centroid (i.e., the centroid with the smallest distance for each data point). It returns an array of size n_samples (one index per data point), where each value corresponds to the index of the closest centroid."
   ]
  },
  {
   "cell_type": "markdown",
   "metadata": {},
   "source": [
    "Question-21 for K=4"
   ]
  }
 ],
 "metadata": {
  "kernelspec": {
   "display_name": "Python 3",
   "language": "python",
   "name": "python3"
  },
  "language_info": {
   "codemirror_mode": {
    "name": "ipython",
    "version": 3
   },
   "file_extension": ".py",
   "mimetype": "text/x-python",
   "name": "python",
   "nbconvert_exporter": "python",
   "pygments_lexer": "ipython3",
   "version": "3.10.9"
  }
 },
 "nbformat": 4,
 "nbformat_minor": 2
}
